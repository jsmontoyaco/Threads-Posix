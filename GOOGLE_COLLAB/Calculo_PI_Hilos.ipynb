{
  "nbformat": 4,
  "nbformat_minor": 0,
  "metadata": {
    "colab": {
      "name": "Calculo PI Hilos.ipynb",
      "provenance": []
    },
    "kernelspec": {
      "name": "python3",
      "display_name": "Python 3"
    },
    "language_info": {
      "name": "python"
    }
  },
  "cells": [
    {
      "cell_type": "markdown",
      "source": [
        "# Calculo de $\\pi$ secuencial"
      ],
      "metadata": {
        "id": "BJLsp9lbOqWz"
      }
    },
    {
      "cell_type": "code",
      "execution_count": 1,
      "metadata": {
        "colab": {
          "base_uri": "https://localhost:8080/"
        },
        "id": "Yq0CFjyYPdNv",
        "outputId": "695cf635-8f49-447b-96b4-545c0b6e2925"
      },
      "outputs": [
        {
          "output_type": "stream",
          "name": "stdout",
          "text": [
            "Writing phiseccollab.c\n"
          ]
        }
      ],
      "source": [
        "%%writefile phiseccollab.c\n",
        "\n",
        "#include <stdio.h>\n",
        "#include <stdlib.h>\n",
        "#include <sys/time.h>\n",
        "\n",
        "#define iterations 1e9\n",
        "double pi=0;\n",
        "\n",
        "double pileibnitz(){\n",
        "    for(int i=0; i< iterations; i++){\n",
        "        pi += (double) 1/(i*2+1) * 4;\n",
        "        i++;\n",
        "        pi -= (double) 1/(i*2+1) * 4 ;\n",
        "    }\n",
        "    return pi;\n",
        "}\n",
        "\n",
        "int main(){\n",
        "    FILE *fo;\n",
        "    fo = fopen(\"pithreaddataCOLLAB.txt\", \"a\");\n",
        "    struct timeval t_before, t_after, t_execution; \n",
        "    gettimeofday(&t_before, NULL);\n",
        "    double pi = pileibnitz();\n",
        "    gettimeofday(&t_after, NULL);\n",
        "    timersub(&t_after, &t_before, &t_execution);\n",
        "    long int seconds = (long int) t_execution.tv_sec;\n",
        "    long int useconds = (long int) t_execution.tv_usec;\n",
        "    fprintf(fo, \"1Thread %ld.%06ld\", seconds, useconds);\n",
        "    fclose(fo);\n",
        "    printf(\"Pi calculated with %f iteractions \\n With a value of %f \\n Executed in %ld.%06ld seconds\", iterations, pi, seconds, useconds);\n",
        "    return 0;\n",
        "}"
      ]
    },
    {
      "cell_type": "code",
      "source": [
        "%%shell \n",
        "gcc phiseccollab.c -o output\n",
        "./output"
      ],
      "metadata": {
        "colab": {
          "base_uri": "https://localhost:8080/"
        },
        "id": "C1G_btJ0X-GF",
        "outputId": "508caa81-52f2-4f7e-811b-66bceb3d8b86"
      },
      "execution_count": 2,
      "outputs": [
        {
          "output_type": "stream",
          "name": "stdout",
          "text": [
            "Pi calculated with 1000000000.000000 iteractions \n",
            " With a value of 3.141593 \n",
            " Executed in 11.111123 seconds"
          ]
        },
        {
          "output_type": "execute_result",
          "data": {
            "text/plain": [
              ""
            ]
          },
          "metadata": {},
          "execution_count": 2
        }
      ]
    },
    {
      "cell_type": "markdown",
      "source": [
        "# Calculo de $\\pi$ 2 Hilos"
      ],
      "metadata": {
        "id": "QIkeynw6la1v"
      }
    },
    {
      "cell_type": "code",
      "source": [
        "%%writefile phi2thcollab.c\n",
        "\n",
        "#include <stdio.h>\n",
        "#include <stdlib.h>\n",
        "#include <sys/time.h>\n",
        "#include <pthread.h>\n",
        "\n",
        "#define iterations 1e9\n",
        "#define threads 2\n",
        "\n",
        "double pi=0;\n",
        "int section = iterations/threads;\n",
        "\n",
        "void *pileibnitz(void *arg){\n",
        "    int hilo = (int *) arg;\n",
        "    int init = section * hilo;\n",
        "    int fn = init + section -1;\n",
        "    for(int init=0; init < fn; init++){\n",
        "        pi += (double) 1/(init*2+1) * 4;\n",
        "        init++;\n",
        "        pi -= (double) 1/(init*2+1) * 4 ;\n",
        "    }\n",
        "}\n",
        "\n",
        "int main(){\n",
        "    FILE *fo;\n",
        "    fo = fopen(\"pithreaddataCOLLAB.txt\", \"a\");\n",
        "    struct timeval t_before, t_after, t_execution; \n",
        "    pthread_t thread1;\n",
        "    pthread_t thread2;\n",
        "    gettimeofday(&t_before, NULL);\n",
        "    pthread_create(&thread1, NULL, (void *)pileibnitz, (void *) 0);\n",
        "    pthread_create(&thread2, NULL, (void *)pileibnitz, (void *) 1);\n",
        "    pthread_join(thread1, NULL);\n",
        "    pthread_join(thread2, NULL);\n",
        "    gettimeofday(&t_after, NULL);\n",
        "    timersub(&t_after, &t_before, &t_execution);\n",
        "    long int seconds = (long int) t_execution.tv_sec;\n",
        "    long int useconds = (long int) t_execution.tv_usec;\n",
        "    fprintf(fo, \"\\n2Thread %ld.%06ld\", seconds, useconds);\n",
        "    fclose(fo);\n",
        "    printf(\"Pi calculated with %f iteractions \\n With a value of %f \\n Executed in %ld.%06ld seconds\", iterations, pi, seconds, useconds);\n",
        "    return 0;\n",
        "}"
      ],
      "metadata": {
        "id": "4Jflj6yoPNVU",
        "colab": {
          "base_uri": "https://localhost:8080/"
        },
        "outputId": "16e70778-115e-4c80-c77a-cc4d2357b85a"
      },
      "execution_count": 3,
      "outputs": [
        {
          "output_type": "stream",
          "name": "stdout",
          "text": [
            "Writing phi2thcollab.c\n"
          ]
        }
      ]
    },
    {
      "cell_type": "code",
      "source": [
        "%%shell \n",
        "gcc phi2thcollab.c -pthread -o output\n",
        "./output"
      ],
      "metadata": {
        "colab": {
          "base_uri": "https://localhost:8080/"
        },
        "id": "0yRbxJaonK1L",
        "outputId": "3b639110-bb27-4caa-e1c8-7fa7ea0cf129"
      },
      "execution_count": 4,
      "outputs": [
        {
          "output_type": "stream",
          "name": "stdout",
          "text": [
            "\u001b[01m\u001b[Kphi2thcollab.c:\u001b[m\u001b[K In function ‘\u001b[01m\u001b[Kpileibnitz\u001b[m\u001b[K’:\n",
            "\u001b[01m\u001b[Kphi2thcollab.c:14:16:\u001b[m\u001b[K \u001b[01;35m\u001b[Kwarning: \u001b[m\u001b[Kinitialization makes integer from pointer without a cast [\u001b[01;35m\u001b[K-Wint-conversion\u001b[m\u001b[K]\n",
            "     int hilo = \u001b[01;35m\u001b[K(\u001b[m\u001b[Kint *) arg;\n",
            "                \u001b[01;35m\u001b[K^\u001b[m\u001b[K\n",
            "Pi calculated with 1000000000.000000 iteractions \n",
            " With a value of 8.246170 \n",
            " Executed in 12.715859 seconds"
          ]
        },
        {
          "output_type": "execute_result",
          "data": {
            "text/plain": [
              ""
            ]
          },
          "metadata": {},
          "execution_count": 4
        }
      ]
    },
    {
      "cell_type": "markdown",
      "source": [
        "# Calculo de $\\pi$ con 3 hilos"
      ],
      "metadata": {
        "id": "ZkbtRjqdqSBq"
      }
    },
    {
      "cell_type": "code",
      "source": [
        "%%writefile phi3thcollab.c\n",
        "\n",
        "#include <stdio.h>\n",
        "#include <stdlib.h>\n",
        "#include <sys/time.h>\n",
        "#include <pthread.h>\n",
        "\n",
        "#define iterations 1e9\n",
        "#define threads 3\n",
        "\n",
        "double pi=0;\n",
        "int section = iterations/threads;\n",
        "\n",
        "void *pileibnitz(void *arg){\n",
        "    int hilo = (int *) arg;\n",
        "    int init = section * hilo;\n",
        "    int fn = init + section -1;\n",
        "    for(int init=0; init < fn; init++){\n",
        "        pi += (double) 1/(init*2+1) * 4;\n",
        "        init++;\n",
        "        pi -= (double) 1/(init*2+1) * 4 ;\n",
        "    }\n",
        "}\n",
        "\n",
        "int main(){\n",
        "    FILE *fo;\n",
        "    fo = fopen(\"pithreaddataCOLLAB.txt\", \"a\");\n",
        "    struct timeval t_before, t_after, t_execution; \n",
        "    pthread_t thread1;\n",
        "    pthread_t thread2;\n",
        "    pthread_t thread3;\n",
        "    gettimeofday(&t_before, NULL);\n",
        "    pthread_create(&thread1, NULL, (void *)pileibnitz, (void *) 0);\n",
        "    pthread_create(&thread2, NULL, (void *)pileibnitz, (void *) 1);\n",
        "    pthread_create(&thread3, NULL, (void *)pileibnitz, (void *) 2);\n",
        "    pthread_join(thread1, NULL);\n",
        "    pthread_join(thread2, NULL);\n",
        "    pthread_join(thread3, NULL);\n",
        "    gettimeofday(&t_after, NULL);\n",
        "    timersub(&t_after, &t_before, &t_execution);\n",
        "    long int seconds = (long int) t_execution.tv_sec;\n",
        "    long int useconds = (long int) t_execution.tv_usec;\n",
        "    fprintf(fo, \"\\n3Thread %ld.%06ld\", seconds, useconds);\n",
        "    fclose(fo);\n",
        "    printf(\"Pi calculated with %f iteractions \\n With a value of %f \\n Executed in %ld.%06ld seconds\", iterations, pi, seconds, useconds);\n",
        "    return 0;\n",
        "}"
      ],
      "metadata": {
        "colab": {
          "base_uri": "https://localhost:8080/"
        },
        "id": "8suN8QdpqQjz",
        "outputId": "88212419-7b72-4639-87f4-dc20b0621651"
      },
      "execution_count": 5,
      "outputs": [
        {
          "output_type": "stream",
          "name": "stdout",
          "text": [
            "Writing phi3thcollab.c\n"
          ]
        }
      ]
    },
    {
      "cell_type": "code",
      "source": [
        "%%shell \n",
        "gcc phi3thcollab.c -pthread -o output\n",
        "./output"
      ],
      "metadata": {
        "colab": {
          "base_uri": "https://localhost:8080/"
        },
        "id": "5U42jEw_qmzC",
        "outputId": "b794f6cf-1b53-4961-f492-8a8cb6bf0342"
      },
      "execution_count": 6,
      "outputs": [
        {
          "output_type": "stream",
          "name": "stdout",
          "text": [
            "\u001b[01m\u001b[Kphi3thcollab.c:\u001b[m\u001b[K In function ‘\u001b[01m\u001b[Kpileibnitz\u001b[m\u001b[K’:\n",
            "\u001b[01m\u001b[Kphi3thcollab.c:14:16:\u001b[m\u001b[K \u001b[01;35m\u001b[Kwarning: \u001b[m\u001b[Kinitialization makes integer from pointer without a cast [\u001b[01;35m\u001b[K-Wint-conversion\u001b[m\u001b[K]\n",
            "     int hilo = \u001b[01;35m\u001b[K(\u001b[m\u001b[Kint *) arg;\n",
            "                \u001b[01;35m\u001b[K^\u001b[m\u001b[K\n",
            "Pi calculated with 1000000000.000000 iteractions \n",
            " With a value of 15.012631 \n",
            " Executed in 16.078208 seconds"
          ]
        },
        {
          "output_type": "execute_result",
          "data": {
            "text/plain": [
              ""
            ]
          },
          "metadata": {},
          "execution_count": 6
        }
      ]
    },
    {
      "cell_type": "markdown",
      "source": [
        "# Calculo de $\\pi$ con 4 hilos"
      ],
      "metadata": {
        "id": "Rrw_6vx4qrIq"
      }
    },
    {
      "cell_type": "code",
      "source": [
        "%%writefile phi4thcollab.c\n",
        "\n",
        "#include <stdio.h>\n",
        "#include <stdlib.h>\n",
        "#include <sys/time.h>\n",
        "#include <pthread.h>\n",
        "\n",
        "#define iterations 1e9\n",
        "#define threads 4\n",
        "\n",
        "double pi=0;\n",
        "int section = iterations/threads;\n",
        "\n",
        "void *pileibnitz(void *arg){\n",
        "    int hilo = (int *) arg;\n",
        "    int init = section * hilo;\n",
        "    int fn = init + section -1;\n",
        "    for(int init=0; init < fn; init++){\n",
        "        pi += (double) 1/(init*2+1) * 4;\n",
        "        init++;\n",
        "        pi -= (double) 1/(init*2+1) * 4 ;\n",
        "    }\n",
        "}\n",
        "\n",
        "int main(){\n",
        "    FILE *fo;\n",
        "    fo = fopen(\"pithreaddataCOLLAB.txt\", \"a\");\n",
        "    struct timeval t_before, t_after, t_execution; \n",
        "    pthread_t thread1;\n",
        "    pthread_t thread2;\n",
        "    pthread_t thread3;\n",
        "    pthread_t thread4;\n",
        "    gettimeofday(&t_before, NULL);\n",
        "    pthread_create(&thread1, NULL, (void *)pileibnitz, (void *) 0);\n",
        "    pthread_create(&thread2, NULL, (void *)pileibnitz, (void *) 1);\n",
        "    pthread_create(&thread3, NULL, (void *)pileibnitz, (void *) 2);\n",
        "    pthread_create(&thread4, NULL, (void *)pileibnitz, (void *) 3);\n",
        "    pthread_join(thread1, NULL);\n",
        "    pthread_join(thread2, NULL);\n",
        "    pthread_join(thread3, NULL);\n",
        "    pthread_join(thread4, NULL);\n",
        "    gettimeofday(&t_after, NULL);\n",
        "    timersub(&t_after, &t_before, &t_execution);\n",
        "    long int seconds = (long int) t_execution.tv_sec;\n",
        "    long int useconds = (long int) t_execution.tv_usec;\n",
        "    fprintf(fo, \"\\n4Thread %ld.%06ld\", seconds, useconds);\n",
        "    fclose(fo);\n",
        "    printf(\"Pi calculated with %f iteractions \\n With a value of %f \\n Executed in %ld.%06ld seconds\", iterations, pi, seconds, useconds);\n",
        "    return 0;\n",
        "}"
      ],
      "metadata": {
        "colab": {
          "base_uri": "https://localhost:8080/"
        },
        "id": "1eGwYZvQqyHx",
        "outputId": "76735769-157d-4fa9-858d-632235495263"
      },
      "execution_count": 7,
      "outputs": [
        {
          "output_type": "stream",
          "name": "stdout",
          "text": [
            "Writing phi4thcollab.c\n"
          ]
        }
      ]
    },
    {
      "cell_type": "code",
      "source": [
        "%%shell \n",
        "gcc phi4thcollab.c -pthread -o output\n",
        "./output"
      ],
      "metadata": {
        "colab": {
          "base_uri": "https://localhost:8080/"
        },
        "id": "FLSuj1V3rQHh",
        "outputId": "5d8df5ad-3538-462c-98e6-19ca82d3adf4"
      },
      "execution_count": 8,
      "outputs": [
        {
          "output_type": "stream",
          "name": "stdout",
          "text": [
            "\u001b[01m\u001b[Kphi4thcollab.c:\u001b[m\u001b[K In function ‘\u001b[01m\u001b[Kpileibnitz\u001b[m\u001b[K’:\n",
            "\u001b[01m\u001b[Kphi4thcollab.c:14:16:\u001b[m\u001b[K \u001b[01;35m\u001b[Kwarning: \u001b[m\u001b[Kinitialization makes integer from pointer without a cast [\u001b[01;35m\u001b[K-Wint-conversion\u001b[m\u001b[K]\n",
            "     int hilo = \u001b[01;35m\u001b[K(\u001b[m\u001b[Kint *) arg;\n",
            "                \u001b[01;35m\u001b[K^\u001b[m\u001b[K\n",
            "Pi calculated with 1000000000.000000 iteractions \n",
            " With a value of 22.480368 \n",
            " Executed in 19.644783 seconds"
          ]
        },
        {
          "output_type": "execute_result",
          "data": {
            "text/plain": [
              ""
            ]
          },
          "metadata": {},
          "execution_count": 8
        }
      ]
    },
    {
      "cell_type": "code",
      "source": [
        "! uname -a"
      ],
      "metadata": {
        "colab": {
          "base_uri": "https://localhost:8080/"
        },
        "id": "cL4VSzlasSHD",
        "outputId": "7e2d3bec-bca7-4068-bb4e-b6034796a326"
      },
      "execution_count": 9,
      "outputs": [
        {
          "output_type": "stream",
          "name": "stdout",
          "text": [
            "Linux ebdf8706ffb0 5.4.144+ #1 SMP Tue Dec 7 09:58:10 PST 2021 x86_64 x86_64 x86_64 GNU/Linux\n"
          ]
        }
      ]
    },
    {
      "cell_type": "code",
      "source": [
        "! lscpu"
      ],
      "metadata": {
        "colab": {
          "base_uri": "https://localhost:8080/"
        },
        "id": "RjbunatftOfp",
        "outputId": "58d9ab92-be72-44f7-fc10-40f32b06abe6"
      },
      "execution_count": 12,
      "outputs": [
        {
          "output_type": "stream",
          "name": "stdout",
          "text": [
            "Architecture:        x86_64\n",
            "CPU op-mode(s):      32-bit, 64-bit\n",
            "Byte Order:          Little Endian\n",
            "CPU(s):              2\n",
            "On-line CPU(s) list: 0,1\n",
            "Thread(s) per core:  2\n",
            "Core(s) per socket:  1\n",
            "Socket(s):           1\n",
            "NUMA node(s):        1\n",
            "Vendor ID:           GenuineIntel\n",
            "CPU family:          6\n",
            "Model:               79\n",
            "Model name:          Intel(R) Xeon(R) CPU @ 2.20GHz\n",
            "Stepping:            0\n",
            "CPU MHz:             2199.998\n",
            "BogoMIPS:            4399.99\n",
            "Hypervisor vendor:   KVM\n",
            "Virtualization type: full\n",
            "L1d cache:           32K\n",
            "L1i cache:           32K\n",
            "L2 cache:            256K\n",
            "L3 cache:            56320K\n",
            "NUMA node0 CPU(s):   0,1\n",
            "Flags:               fpu vme de pse tsc msr pae mce cx8 apic sep mtrr pge mca cmov pat pse36 clflush mmx fxsr sse sse2 ss ht syscall nx pdpe1gb rdtscp lm constant_tsc rep_good nopl xtopology nonstop_tsc cpuid tsc_known_freq pni pclmulqdq ssse3 fma cx16 pcid sse4_1 sse4_2 x2apic movbe popcnt aes xsave avx f16c rdrand hypervisor lahf_lm abm 3dnowprefetch invpcid_single ssbd ibrs ibpb stibp fsgsbase tsc_adjust bmi1 hle avx2 smep bmi2 erms invpcid rtm rdseed adx smap xsaveopt arat md_clear arch_capabilities\n"
          ]
        }
      ]
    }
  ]
}