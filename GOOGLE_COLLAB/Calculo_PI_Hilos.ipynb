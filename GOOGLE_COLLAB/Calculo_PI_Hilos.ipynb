{
  "nbformat": 4,
  "nbformat_minor": 0,
  "metadata": {
    "colab": {
      "name": "Calculo PI Hilos.ipynb",
      "provenance": [],
      "collapsed_sections": []
    },
    "kernelspec": {
      "name": "python3",
      "display_name": "Python 3"
    },
    "language_info": {
      "name": "python"
    }
  },
  "cells": [
    {
      "cell_type": "markdown",
      "source": [
        "# Calculo de $\\pi$ secuencial"
      ],
      "metadata": {
        "id": "BJLsp9lbOqWz"
      }
    },
    {
      "cell_type": "code",
      "execution_count": 19,
      "metadata": {
        "colab": {
          "base_uri": "https://localhost:8080/"
        },
        "id": "Yq0CFjyYPdNv",
        "outputId": "e86bb6eb-c28c-4c76-da49-62c4031402c2"
      },
      "outputs": [
        {
          "output_type": "stream",
          "name": "stdout",
          "text": [
            "Overwriting phiseccollab.c\n"
          ]
        }
      ],
      "source": [
        "%%writefile phiseccollab.c\n",
        "\n",
        "#include <stdlib.h>\n",
        "#include <stdio.h>\n",
        "#include <sys/time.h> //For linux\n",
        "//#include <windows.h> //for windows OS\n",
        "\n",
        "#define iterations 1e9\n",
        "\n",
        "void pileibnitz(double *picalc){\n",
        "    for(int i=0; i< iterations; i++){\n",
        "        *picalc += (double) 1/(i*2+1) * 4;\n",
        "        i++;\n",
        "        *picalc -= (double) 1/(i*2+1) * 4 ;\n",
        "    }\n",
        "}\n",
        "\n",
        "void main(){\n",
        "    FILE *fo;\n",
        "    fo = fopen (\"pithreaddataCOLLAB.txt\", \"a\");\n",
        "    double pi=0;\n",
        "    struct timeval tval_before, tval_after, tval_result; //time execution calc command for linux\n",
        "    gettimeofday(&tval_before, NULL); //time execution calc command for linux\n",
        "\n",
        "    //LARGE_INTEGER frequency; //time execution calc command for windows\n",
        "    //LARGE_INTEGER start; //time execution calc command for windows\n",
        "    //LARGE_INTEGER end; //time execution calc command for windows\n",
        "    //double exec_time; //time execution calc command for windows\n",
        "    //QueryPerformanceFrequency(&frequency); //time execution calc command for windows\n",
        "    //QueryPerformanceCounter(&start); //time execution calc command for windows\n",
        "\n",
        "    pileibnitz(&pi);\n",
        "\n",
        "    //QueryPerformanceCounter(&end); //time execution calc command for windows\n",
        "    //exec_time = (double) (end.QuadPart - start.QuadPart)/frequency.QuadPart; //time execution calc command for windows\n",
        "\n",
        "    gettimeofday(&tval_after, NULL); //time execution calc command for linux\n",
        "    timersub(&tval_after, &tval_before, &tval_result); //time execution calc command for linux\n",
        "    long int seconds = (long int)tval_result.tv_sec; //time execution calc command for linux\n",
        "    long int useconds = (long int)tval_result.tv_usec; //time execution calc command for linux\n",
        "\n",
        "    //fprintf(fo, \"1 %f\\n\", exec_time);  //time execution calc command for windows\n",
        "    fprintf(fo, \"1 %ld.%06ld\\n\", seconds, useconds); //time execution calc command for linux\n",
        "    fclose(fo);\n",
        "\n",
        "    printf(\"Pi calculated with %f iteractions \\n With a value of %f \\n Executed in %ld.%06ld seconds\", iterations, pi, seconds, useconds); //time execution calc command for linux\n",
        "    //printf(\"Pi calculated with %f iteractions \\n With a value of %f \\n Executed in %f seconds\", iterations, pi, exec_time); //time execution calc command for windows\n",
        "}"
      ]
    },
    {
      "cell_type": "code",
      "source": [
        "%%shell \n",
        "gcc phiseccollab.c -o output\n",
        "./output"
      ],
      "metadata": {
        "colab": {
          "base_uri": "https://localhost:8080/"
        },
        "id": "C1G_btJ0X-GF",
        "outputId": "dc3b6f3b-1aa0-483d-9a38-ab8c8918029c"
      },
      "execution_count": 20,
      "outputs": [
        {
          "output_type": "stream",
          "name": "stdout",
          "text": [
            "Pi calculated with 1000000000.000000 iteractions \n",
            " With a value of 3.141593 \n",
            " Executed in 10.661031 seconds"
          ]
        },
        {
          "output_type": "execute_result",
          "data": {
            "text/plain": [
              ""
            ]
          },
          "metadata": {},
          "execution_count": 20
        }
      ]
    },
    {
      "cell_type": "markdown",
      "source": [
        "# Calculo de $\\pi$ Hilos"
      ],
      "metadata": {
        "id": "QIkeynw6la1v"
      }
    },
    {
      "cell_type": "code",
      "source": [
        "%%writefile phithcollab.c\n",
        "\n",
        "#include <stdlib.h>\n",
        "#include <stdio.h>\n",
        "#include <sys/time.h> //For linux\n",
        "//#include <windows.h> //for windows OS\n",
        "#include <pthread.h>\n",
        "\n",
        "#define iterations 1e09\n",
        "#define threads 4 //change the number threads\n",
        "double pithval[threads];\n",
        "int pith[threads];\n",
        "double pi = 0.0;\n",
        "\n",
        "void *pileibnitz(void *arg){\n",
        "    int init, ending, div = *(int *)arg;\n",
        "    init = (iterations/threads) * div;\n",
        "    ending = init + ((iterations/threads) -1);\n",
        "    pithval[div] = 0.0;\n",
        "    //printf(\"Init %i, Ending %i, div %i \\n\",init,ending,div);\n",
        "    for(int i=init; i< ending; i++){\n",
        "        pithval[div] += (double) (1.0/(i*2+1) * 4.0);\n",
        "        i++;\n",
        "        pithval[div] -= (double) (1.0/(i*2+1) * 4.0);\n",
        "    }\n",
        "}\n",
        "\n",
        "void main(){\n",
        "    FILE *fo;\n",
        "    fo = fopen (\"pithreaddataCOLLAB.txt\", \"a\");\n",
        "    pthread_t thread[threads];\n",
        "    int *retval;\n",
        "\n",
        "    //LARGE_INTEGER frequency; //time execution calc command for windows\n",
        "    //LARGE_INTEGER start; //time execution calc command for windows\n",
        "    //LARGE_INTEGER end; //time execution calc command for windows\n",
        "    //double exec_time; //time execution calc command for windows\n",
        "    //QueryPerformanceFrequency(&frequency); //time execution calc command for windows\n",
        "    //QueryPerformanceCounter(&start); //time execution calc command for windows\n",
        "\n",
        "    struct timeval tval_before, tval_after, tval_result; //time execution calc command for linux\n",
        "    gettimeofday(&tval_before, NULL); //time execution calc command for linux\n",
        "\n",
        "    for (int i=0; i< threads; i++){\n",
        "        pith[i]=i;\n",
        "        pthread_create(&thread[i], NULL, pileibnitz, &pith[i]);\n",
        "    }\n",
        "    for (int j=0; j< threads; j++){\n",
        "        pthread_join(thread[j], (void **) &retval);\n",
        "        //printf(\"\\nFinished %i join thread\\n\", j);\n",
        "    }\n",
        "    for (int k=0; k< threads; k++){\n",
        "        //printf(\"Pi value in thread %i %2.12f \\n\", k,pithval[k]);\n",
        "        pi += pithval[k];\n",
        "    }\n",
        "\n",
        "\n",
        "    //QueryPerformanceCounter(&end); //time execution calc command for windows\n",
        "    //exec_time = (double) (end.QuadPart - start.QuadPart)/frequency.QuadPart; //time execution calc command for windows\n",
        "\n",
        "    gettimeofday(&tval_after, NULL); //time execution calc command for linux\n",
        "    timersub(&tval_after, &tval_before, &tval_result); //time execution calc command for linux\n",
        "    long int seconds = (long int)tval_result.tv_sec; //time execution calc command for linux\n",
        "    long int useconds = (long int)tval_result.tv_usec; //time execution calc command for linux\n",
        "\n",
        "    //fprintf(fo, \"%i %f\\n\", threads,exec_time);  //time execution calc command for windows\n",
        "    fprintf(fo, \"%i %ld.%06ld\\n\", threads,seconds, useconds); //time execution calc command for linux\n",
        "    fclose(fo);\n",
        "\n",
        "    printf(\"Pi calculated with %f iteractions \\n With a value of %f \\n Executed in %ld.%06ld seconds\", iterations, pi, seconds, useconds); //time execution calc command for linux\n",
        "    //printf(\"Pi calculated with %f iteractions \\n With a value of %f \\n Executed in %f seconds\", iterations, pi, exec_time); //time execution calc command for windows\n",
        "}"
      ],
      "metadata": {
        "id": "4Jflj6yoPNVU",
        "colab": {
          "base_uri": "https://localhost:8080/"
        },
        "outputId": "45778ffb-1b45-43f7-b2e4-8dd1da629813"
      },
      "execution_count": 17,
      "outputs": [
        {
          "output_type": "stream",
          "name": "stdout",
          "text": [
            "Overwriting phithcollab.c\n"
          ]
        }
      ]
    },
    {
      "cell_type": "code",
      "source": [
        "%%shell \n",
        "gcc phithcollab.c -pthread -o output\n",
        "./output"
      ],
      "metadata": {
        "colab": {
          "base_uri": "https://localhost:8080/"
        },
        "id": "0yRbxJaonK1L",
        "outputId": "f2c46325-cecb-406d-e772-8420f44c125d"
      },
      "execution_count": 18,
      "outputs": [
        {
          "output_type": "stream",
          "name": "stdout",
          "text": [
            "Pi calculated with 1000000000.000000 iteractions \n",
            " With a value of 3.141593 \n",
            " Executed in 5.146306 seconds"
          ]
        },
        {
          "output_type": "execute_result",
          "data": {
            "text/plain": [
              ""
            ]
          },
          "metadata": {},
          "execution_count": 18
        }
      ]
    },
    {
      "cell_type": "code",
      "source": [
        "! lscpu"
      ],
      "metadata": {
        "colab": {
          "base_uri": "https://localhost:8080/"
        },
        "id": "RjbunatftOfp",
        "outputId": "58d9ab92-be72-44f7-fc10-40f32b06abe6"
      },
      "execution_count": null,
      "outputs": [
        {
          "output_type": "stream",
          "name": "stdout",
          "text": [
            "Architecture:        x86_64\n",
            "CPU op-mode(s):      32-bit, 64-bit\n",
            "Byte Order:          Little Endian\n",
            "CPU(s):              2\n",
            "On-line CPU(s) list: 0,1\n",
            "Thread(s) per core:  2\n",
            "Core(s) per socket:  1\n",
            "Socket(s):           1\n",
            "NUMA node(s):        1\n",
            "Vendor ID:           GenuineIntel\n",
            "CPU family:          6\n",
            "Model:               79\n",
            "Model name:          Intel(R) Xeon(R) CPU @ 2.20GHz\n",
            "Stepping:            0\n",
            "CPU MHz:             2199.998\n",
            "BogoMIPS:            4399.99\n",
            "Hypervisor vendor:   KVM\n",
            "Virtualization type: full\n",
            "L1d cache:           32K\n",
            "L1i cache:           32K\n",
            "L2 cache:            256K\n",
            "L3 cache:            56320K\n",
            "NUMA node0 CPU(s):   0,1\n",
            "Flags:               fpu vme de pse tsc msr pae mce cx8 apic sep mtrr pge mca cmov pat pse36 clflush mmx fxsr sse sse2 ss ht syscall nx pdpe1gb rdtscp lm constant_tsc rep_good nopl xtopology nonstop_tsc cpuid tsc_known_freq pni pclmulqdq ssse3 fma cx16 pcid sse4_1 sse4_2 x2apic movbe popcnt aes xsave avx f16c rdrand hypervisor lahf_lm abm 3dnowprefetch invpcid_single ssbd ibrs ibpb stibp fsgsbase tsc_adjust bmi1 hle avx2 smep bmi2 erms invpcid rtm rdseed adx smap xsaveopt arat md_clear arch_capabilities\n"
          ]
        }
      ]
    }
  ]
}