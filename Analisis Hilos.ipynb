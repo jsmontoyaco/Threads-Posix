{
  "cells": [
    {
      "cell_type": "markdown",
      "id": "f95b8baa",
      "metadata": {
        "id": "f95b8baa"
      },
      "source": [
        "# Posix Threads\n",
        "## Presented by: Juan Sebastián Montoya Cómbita\n",
        "## Computación Paralela y Distribuida 2022-1\n"
      ]
    },
    {
      "cell_type": "markdown",
      "id": "6c4599a0",
      "metadata": {
        "id": "6c4599a0"
      },
      "source": [
        "## Calculus of $\\pi$ secuencial using the Leibnitz formula also with 2 threads, 3 threads and 4 threads"
      ]
    },
    {
      "cell_type": "code",
      "execution_count": 1,
      "id": "6eff5f8d",
      "metadata": {
        "id": "6eff5f8d"
      },
      "outputs": [],
      "source": [
        "import matplotlib.pyplot as plt\n",
        "import numpy as np\n",
        "import pandas as pd"
      ]
    },
    {
      "cell_type": "code",
      "source": [
        "! wget https://raw.githubusercontent.com/jsmontoyaco/Threads-Posix/main/INTEL_XEON_W3520/pithreaddataINTEL.txt"
      ],
      "metadata": {
        "colab": {
          "base_uri": "https://localhost:8080/"
        },
        "id": "prt4-0x6HcEV",
        "outputId": "22790216-b176-4593-929f-73506f33d061"
      },
      "id": "prt4-0x6HcEV",
      "execution_count": 2,
      "outputs": [
        {
          "output_type": "stream",
          "name": "stdout",
          "text": [
            "--2022-03-21 04:42:01--  https://raw.githubusercontent.com/jsmontoyaco/Threads-Posix/main/INTEL_XEON_W3520/pithreaddataINTEL.txt\n",
            "Resolving raw.githubusercontent.com (raw.githubusercontent.com)... 185.199.108.133, 185.199.109.133, 185.199.110.133, ...\n",
            "Connecting to raw.githubusercontent.com (raw.githubusercontent.com)|185.199.108.133|:443... connected.\n",
            "HTTP request sent, awaiting response... 200 OK\n",
            "Length: 67 [text/plain]\n",
            "Saving to: ‘pithreaddataINTEL.txt.1’\n",
            "\n",
            "\rpithreaddataINTEL.t   0%[                    ]       0  --.-KB/s               \rpithreaddataINTEL.t 100%[===================>]      67  --.-KB/s    in 0s      \n",
            "\n",
            "2022-03-21 04:42:01 (2.89 MB/s) - ‘pithreaddataINTEL.txt.1’ saved [67/67]\n",
            "\n"
          ]
        }
      ]
    },
    {
      "cell_type": "code",
      "source": [
        "! wget https://raw.githubusercontent.com/jsmontoyaco/Threads-Posix/main/AMD_A12_9720P/pithreaddataAMD.txt"
      ],
      "metadata": {
        "colab": {
          "base_uri": "https://localhost:8080/"
        },
        "id": "jM5tUag3ODcQ",
        "outputId": "a70661ca-ba02-4f39-81d0-8984353253a2"
      },
      "id": "jM5tUag3ODcQ",
      "execution_count": 3,
      "outputs": [
        {
          "output_type": "stream",
          "name": "stdout",
          "text": [
            "--2022-03-21 04:42:01--  https://raw.githubusercontent.com/jsmontoyaco/Threads-Posix/main/AMD_A12_9720P/pithreaddataAMD.txt\n",
            "Resolving raw.githubusercontent.com (raw.githubusercontent.com)... 185.199.108.133, 185.199.109.133, 185.199.110.133, ...\n",
            "Connecting to raw.githubusercontent.com (raw.githubusercontent.com)|185.199.108.133|:443... connected.\n",
            "HTTP request sent, awaiting response... 200 OK\n",
            "Length: 70 [text/plain]\n",
            "Saving to: ‘pithreaddataAMD.txt.1’\n",
            "\n",
            "\rpithreaddataAMD.txt   0%[                    ]       0  --.-KB/s               \rpithreaddataAMD.txt 100%[===================>]      70  --.-KB/s    in 0s      \n",
            "\n",
            "2022-03-21 04:42:01 (6.22 MB/s) - ‘pithreaddataAMD.txt.1’ saved [70/70]\n",
            "\n"
          ]
        }
      ]
    },
    {
      "cell_type": "code",
      "source": [
        "! wget https://raw.githubusercontent.com/jsmontoyaco/Threads-Posix/main/GOOGLE_COLLAB/pithreaddataCOLLAB.txt"
      ],
      "metadata": {
        "colab": {
          "base_uri": "https://localhost:8080/"
        },
        "id": "8WKHWxFKvK0A",
        "outputId": "5d3a5e42-6eb9-463b-8155-2a598712ab9a"
      },
      "id": "8WKHWxFKvK0A",
      "execution_count": 4,
      "outputs": [
        {
          "output_type": "stream",
          "name": "stdout",
          "text": [
            "--2022-03-21 04:42:01--  https://raw.githubusercontent.com/jsmontoyaco/Threads-Posix/main/GOOGLE_COLLAB/pithreaddataCOLLAB.txt\n",
            "Resolving raw.githubusercontent.com (raw.githubusercontent.com)... 185.199.108.133, 185.199.109.133, 185.199.110.133, ...\n",
            "Connecting to raw.githubusercontent.com (raw.githubusercontent.com)|185.199.108.133|:443... connected.\n",
            "HTTP request sent, awaiting response... 200 OK\n",
            "Length: 71 [text/plain]\n",
            "Saving to: ‘pithreaddataCOLLAB.txt.1’\n",
            "\n",
            "\rpithreaddataCOLLAB.   0%[                    ]       0  --.-KB/s               \rpithreaddataCOLLAB. 100%[===================>]      71  --.-KB/s    in 0s      \n",
            "\n",
            "2022-03-21 04:42:01 (4.20 MB/s) - ‘pithreaddataCOLLAB.txt.1’ saved [71/71]\n",
            "\n"
          ]
        }
      ]
    },
    {
      "cell_type": "markdown",
      "id": "a8a1e9c9",
      "metadata": {
        "id": "a8a1e9c9"
      },
      "source": [
        "### 1.  Execution time analysis using AMD A12-9720P(4 Cores, 4 Threads) procesor arquitecture, with 16GB of RAM, Windows 10 OS using Codeblocks IDE"
      ]
    },
    {
      "cell_type": "code",
      "execution_count": 5,
      "id": "df593a2a",
      "metadata": {
        "id": "df593a2a",
        "colab": {
          "base_uri": "https://localhost:8080/",
          "height": 175
        },
        "outputId": "2cc9692d-048d-4403-d5a5-9290e5ffb74f"
      },
      "outputs": [
        {
          "output_type": "execute_result",
          "data": {
            "text/plain": [
              "   Threads  Execution_time\n",
              "0  1Thread        7.495255\n",
              "1  2Thread       15.769263\n",
              "2  3Thread       30.453395\n",
              "3  4Thread       37.757023"
            ],
            "text/html": [
              "\n",
              "  <div id=\"df-3ff537e4-34ff-406a-a67f-9319a8573929\">\n",
              "    <div class=\"colab-df-container\">\n",
              "      <div>\n",
              "<style scoped>\n",
              "    .dataframe tbody tr th:only-of-type {\n",
              "        vertical-align: middle;\n",
              "    }\n",
              "\n",
              "    .dataframe tbody tr th {\n",
              "        vertical-align: top;\n",
              "    }\n",
              "\n",
              "    .dataframe thead th {\n",
              "        text-align: right;\n",
              "    }\n",
              "</style>\n",
              "<table border=\"1\" class=\"dataframe\">\n",
              "  <thead>\n",
              "    <tr style=\"text-align: right;\">\n",
              "      <th></th>\n",
              "      <th>Threads</th>\n",
              "      <th>Execution_time</th>\n",
              "    </tr>\n",
              "  </thead>\n",
              "  <tbody>\n",
              "    <tr>\n",
              "      <th>0</th>\n",
              "      <td>1Thread</td>\n",
              "      <td>7.495255</td>\n",
              "    </tr>\n",
              "    <tr>\n",
              "      <th>1</th>\n",
              "      <td>2Thread</td>\n",
              "      <td>15.769263</td>\n",
              "    </tr>\n",
              "    <tr>\n",
              "      <th>2</th>\n",
              "      <td>3Thread</td>\n",
              "      <td>30.453395</td>\n",
              "    </tr>\n",
              "    <tr>\n",
              "      <th>3</th>\n",
              "      <td>4Thread</td>\n",
              "      <td>37.757023</td>\n",
              "    </tr>\n",
              "  </tbody>\n",
              "</table>\n",
              "</div>\n",
              "      <button class=\"colab-df-convert\" onclick=\"convertToInteractive('df-3ff537e4-34ff-406a-a67f-9319a8573929')\"\n",
              "              title=\"Convert this dataframe to an interactive table.\"\n",
              "              style=\"display:none;\">\n",
              "        \n",
              "  <svg xmlns=\"http://www.w3.org/2000/svg\" height=\"24px\"viewBox=\"0 0 24 24\"\n",
              "       width=\"24px\">\n",
              "    <path d=\"M0 0h24v24H0V0z\" fill=\"none\"/>\n",
              "    <path d=\"M18.56 5.44l.94 2.06.94-2.06 2.06-.94-2.06-.94-.94-2.06-.94 2.06-2.06.94zm-11 1L8.5 8.5l.94-2.06 2.06-.94-2.06-.94L8.5 2.5l-.94 2.06-2.06.94zm10 10l.94 2.06.94-2.06 2.06-.94-2.06-.94-.94-2.06-.94 2.06-2.06.94z\"/><path d=\"M17.41 7.96l-1.37-1.37c-.4-.4-.92-.59-1.43-.59-.52 0-1.04.2-1.43.59L10.3 9.45l-7.72 7.72c-.78.78-.78 2.05 0 2.83L4 21.41c.39.39.9.59 1.41.59.51 0 1.02-.2 1.41-.59l7.78-7.78 2.81-2.81c.8-.78.8-2.07 0-2.86zM5.41 20L4 18.59l7.72-7.72 1.47 1.35L5.41 20z\"/>\n",
              "  </svg>\n",
              "      </button>\n",
              "      \n",
              "  <style>\n",
              "    .colab-df-container {\n",
              "      display:flex;\n",
              "      flex-wrap:wrap;\n",
              "      gap: 12px;\n",
              "    }\n",
              "\n",
              "    .colab-df-convert {\n",
              "      background-color: #E8F0FE;\n",
              "      border: none;\n",
              "      border-radius: 50%;\n",
              "      cursor: pointer;\n",
              "      display: none;\n",
              "      fill: #1967D2;\n",
              "      height: 32px;\n",
              "      padding: 0 0 0 0;\n",
              "      width: 32px;\n",
              "    }\n",
              "\n",
              "    .colab-df-convert:hover {\n",
              "      background-color: #E2EBFA;\n",
              "      box-shadow: 0px 1px 2px rgba(60, 64, 67, 0.3), 0px 1px 3px 1px rgba(60, 64, 67, 0.15);\n",
              "      fill: #174EA6;\n",
              "    }\n",
              "\n",
              "    [theme=dark] .colab-df-convert {\n",
              "      background-color: #3B4455;\n",
              "      fill: #D2E3FC;\n",
              "    }\n",
              "\n",
              "    [theme=dark] .colab-df-convert:hover {\n",
              "      background-color: #434B5C;\n",
              "      box-shadow: 0px 1px 3px 1px rgba(0, 0, 0, 0.15);\n",
              "      filter: drop-shadow(0px 1px 2px rgba(0, 0, 0, 0.3));\n",
              "      fill: #FFFFFF;\n",
              "    }\n",
              "  </style>\n",
              "\n",
              "      <script>\n",
              "        const buttonEl =\n",
              "          document.querySelector('#df-3ff537e4-34ff-406a-a67f-9319a8573929 button.colab-df-convert');\n",
              "        buttonEl.style.display =\n",
              "          google.colab.kernel.accessAllowed ? 'block' : 'none';\n",
              "\n",
              "        async function convertToInteractive(key) {\n",
              "          const element = document.querySelector('#df-3ff537e4-34ff-406a-a67f-9319a8573929');\n",
              "          const dataTable =\n",
              "            await google.colab.kernel.invokeFunction('convertToInteractive',\n",
              "                                                     [key], {});\n",
              "          if (!dataTable) return;\n",
              "\n",
              "          const docLinkHtml = 'Like what you see? Visit the ' +\n",
              "            '<a target=\"_blank\" href=https://colab.research.google.com/notebooks/data_table.ipynb>data table notebook</a>'\n",
              "            + ' to learn more about interactive tables.';\n",
              "          element.innerHTML = '';\n",
              "          dataTable['output_type'] = 'display_data';\n",
              "          await google.colab.output.renderOutput(dataTable, element);\n",
              "          const docLink = document.createElement('div');\n",
              "          docLink.innerHTML = docLinkHtml;\n",
              "          element.appendChild(docLink);\n",
              "        }\n",
              "      </script>\n",
              "    </div>\n",
              "  </div>\n",
              "  "
            ]
          },
          "metadata": {},
          "execution_count": 5
        }
      ],
      "source": [
        "wamdfth = pd.read_csv(\"pithreaddataAMD.txt\", sep=\" \", header=None, names=['Threads', 'Execution_time']) \n",
        "wamdfth"
      ]
    },
    {
      "cell_type": "code",
      "source": [
        "plt.bar(wamdfth['Threads'], wamdfth['Execution_time'], color='Red')\n",
        "plt.title('Execution time with many threads on AMD 4 cores with windows 10')\n",
        "plt.xlabel('Threads')\n",
        "plt.ylabel('Execution time (seconds)')\n",
        "plt.show()"
      ],
      "metadata": {
        "colab": {
          "base_uri": "https://localhost:8080/",
          "height": 295
        },
        "id": "-S76eNdlTK1E",
        "outputId": "43638673-ab44-4d42-a344-aa8701a735fb"
      },
      "id": "-S76eNdlTK1E",
      "execution_count": 6,
      "outputs": [
        {
          "output_type": "display_data",
          "data": {
            "text/plain": [
              "<Figure size 432x288 with 1 Axes>"
            ],
            "image/png": "[encoded data removed]"
          },
          "metadata": {
            "needs_background": "light"
          }
        }
      ]
    },
    {
      "cell_type": "markdown",
      "source": [
        "### 2.  Execution time analysis using Intel Xeon E360X (4 Cores, 4 Threads) procesor arquitecture, with 4GB of RAM, Windows 10 OS using Codeblocks IDE"
      ],
      "metadata": {
        "id": "9pDn5frybSP8"
      },
      "id": "9pDn5frybSP8"
    },
    {
      "cell_type": "code",
      "source": [
        "wintelfth = pd.read_csv(\"pithreaddataINTEL.txt\", sep=\" \", header=None, names=['Threads', 'Execution_time']) \n",
        "wintelfth"
      ],
      "metadata": {
        "colab": {
          "base_uri": "https://localhost:8080/",
          "height": 175
        },
        "id": "R26Twk9kb6j0",
        "outputId": "b5254b8e-3ab6-4648-b49c-7a717965fdc3"
      },
      "id": "R26Twk9kb6j0",
      "execution_count": 7,
      "outputs": [
        {
          "output_type": "execute_result",
          "data": {
            "text/plain": [
              "   Threads  Execution_time\n",
              "0  1Thread        7.977324\n",
              "1  2Thread        4.891143\n",
              "2  3Thread        3.496548\n",
              "3  4Thread        3.419309"
            ],
            "text/html": [
              "\n",
              "  <div id=\"df-f68bebdd-e678-4475-b166-067c0773ab96\">\n",
              "    <div class=\"colab-df-container\">\n",
              "      <div>\n",
              "<style scoped>\n",
              "    .dataframe tbody tr th:only-of-type {\n",
              "        vertical-align: middle;\n",
              "    }\n",
              "\n",
              "    .dataframe tbody tr th {\n",
              "        vertical-align: top;\n",
              "    }\n",
              "\n",
              "    .dataframe thead th {\n",
              "        text-align: right;\n",
              "    }\n",
              "</style>\n",
              "<table border=\"1\" class=\"dataframe\">\n",
              "  <thead>\n",
              "    <tr style=\"text-align: right;\">\n",
              "      <th></th>\n",
              "      <th>Threads</th>\n",
              "      <th>Execution_time</th>\n",
              "    </tr>\n",
              "  </thead>\n",
              "  <tbody>\n",
              "    <tr>\n",
              "      <th>0</th>\n",
              "      <td>1Thread</td>\n",
              "      <td>7.977324</td>\n",
              "    </tr>\n",
              "    <tr>\n",
              "      <th>1</th>\n",
              "      <td>2Thread</td>\n",
              "      <td>4.891143</td>\n",
              "    </tr>\n",
              "    <tr>\n",
              "      <th>2</th>\n",
              "      <td>3Thread</td>\n",
              "      <td>3.496548</td>\n",
              "    </tr>\n",
              "    <tr>\n",
              "      <th>3</th>\n",
              "      <td>4Thread</td>\n",
              "      <td>3.419309</td>\n",
              "    </tr>\n",
              "  </tbody>\n",
              "</table>\n",
              "</div>\n",
              "      <button class=\"colab-df-convert\" onclick=\"convertToInteractive('df-f68bebdd-e678-4475-b166-067c0773ab96')\"\n",
              "              title=\"Convert this dataframe to an interactive table.\"\n",
              "              style=\"display:none;\">\n",
              "        \n",
              "  <svg xmlns=\"http://www.w3.org/2000/svg\" height=\"24px\"viewBox=\"0 0 24 24\"\n",
              "       width=\"24px\">\n",
              "    <path d=\"M0 0h24v24H0V0z\" fill=\"none\"/>\n",
              "    <path d=\"M18.56 5.44l.94 2.06.94-2.06 2.06-.94-2.06-.94-.94-2.06-.94 2.06-2.06.94zm-11 1L8.5 8.5l.94-2.06 2.06-.94-2.06-.94L8.5 2.5l-.94 2.06-2.06.94zm10 10l.94 2.06.94-2.06 2.06-.94-2.06-.94-.94-2.06-.94 2.06-2.06.94z\"/><path d=\"M17.41 7.96l-1.37-1.37c-.4-.4-.92-.59-1.43-.59-.52 0-1.04.2-1.43.59L10.3 9.45l-7.72 7.72c-.78.78-.78 2.05 0 2.83L4 21.41c.39.39.9.59 1.41.59.51 0 1.02-.2 1.41-.59l7.78-7.78 2.81-2.81c.8-.78.8-2.07 0-2.86zM5.41 20L4 18.59l7.72-7.72 1.47 1.35L5.41 20z\"/>\n",
              "  </svg>\n",
              "      </button>\n",
              "      \n",
              "  <style>\n",
              "    .colab-df-container {\n",
              "      display:flex;\n",
              "      flex-wrap:wrap;\n",
              "      gap: 12px;\n",
              "    }\n",
              "\n",
              "    .colab-df-convert {\n",
              "      background-color: #E8F0FE;\n",
              "      border: none;\n",
              "      border-radius: 50%;\n",
              "      cursor: pointer;\n",
              "      display: none;\n",
              "      fill: #1967D2;\n",
              "      height: 32px;\n",
              "      padding: 0 0 0 0;\n",
              "      width: 32px;\n",
              "    }\n",
              "\n",
              "    .colab-df-convert:hover {\n",
              "      background-color: #E2EBFA;\n",
              "      box-shadow: 0px 1px 2px rgba(60, 64, 67, 0.3), 0px 1px 3px 1px rgba(60, 64, 67, 0.15);\n",
              "      fill: #174EA6;\n",
              "    }\n",
              "\n",
              "    [theme=dark] .colab-df-convert {\n",
              "      background-color: #3B4455;\n",
              "      fill: #D2E3FC;\n",
              "    }\n",
              "\n",
              "    [theme=dark] .colab-df-convert:hover {\n",
              "      background-color: #434B5C;\n",
              "      box-shadow: 0px 1px 3px 1px rgba(0, 0, 0, 0.15);\n",
              "      filter: drop-shadow(0px 1px 2px rgba(0, 0, 0, 0.3));\n",
              "      fill: #FFFFFF;\n",
              "    }\n",
              "  </style>\n",
              "\n",
              "      <script>\n",
              "        const buttonEl =\n",
              "          document.querySelector('#df-f68bebdd-e678-4475-b166-067c0773ab96 button.colab-df-convert');\n",
              "        buttonEl.style.display =\n",
              "          google.colab.kernel.accessAllowed ? 'block' : 'none';\n",
              "\n",
              "        async function convertToInteractive(key) {\n",
              "          const element = document.querySelector('#df-f68bebdd-e678-4475-b166-067c0773ab96');\n",
              "          const dataTable =\n",
              "            await google.colab.kernel.invokeFunction('convertToInteractive',\n",
              "                                                     [key], {});\n",
              "          if (!dataTable) return;\n",
              "\n",
              "          const docLinkHtml = 'Like what you see? Visit the ' +\n",
              "            '<a target=\"_blank\" href=https://colab.research.google.com/notebooks/data_table.ipynb>data table notebook</a>'\n",
              "            + ' to learn more about interactive tables.';\n",
              "          element.innerHTML = '';\n",
              "          dataTable['output_type'] = 'display_data';\n",
              "          await google.colab.output.renderOutput(dataTable, element);\n",
              "          const docLink = document.createElement('div');\n",
              "          docLink.innerHTML = docLinkHtml;\n",
              "          element.appendChild(docLink);\n",
              "        }\n",
              "      </script>\n",
              "    </div>\n",
              "  </div>\n",
              "  "
            ]
          },
          "metadata": {},
          "execution_count": 7
        }
      ]
    },
    {
      "cell_type": "code",
      "source": [
        "plt.bar(wintelfth['Threads'], wintelfth['Execution_time'])\n",
        "plt.title('Execution time with many threads on INTEL 4 cores with windows 10')\n",
        "plt.xlabel('Threads')\n",
        "plt.ylabel('Execution time (seconds)')\n",
        "plt.show()"
      ],
      "metadata": {
        "colab": {
          "base_uri": "https://localhost:8080/",
          "height": 295
        },
        "id": "l9l4C6UbcVJi",
        "outputId": "c59542e9-a618-40bf-f53c-a99131a11f78"
      },
      "id": "l9l4C6UbcVJi",
      "execution_count": 8,
      "outputs": [
        {
          "output_type": "display_data",
          "data": {
            "text/plain": [
              "<Figure size 432x288 with 1 Axes>"
            ],
            "image/png": "[encoded data removed]"
          },
          "metadata": {
            "needs_background": "light"
          }
        }
      ]
    },
    {
      "cell_type": "markdown",
      "source": [
        "### Comparison Beetween 2 Results"
      ],
      "metadata": {
        "id": "D5FlElAybqm9"
      },
      "id": "D5FlElAybqm9"
    },
    {
      "cell_type": "code",
      "source": [
        "X = ['Secuential','Two Threads', 'Three Threads', 'Four Threads']\n",
        "X_axis = np.arange(len(X))\n",
        "plt.bar(X_axis - 0.2, wintelfth['Execution_time'], 0.4, label='INTEL')\n",
        "plt.bar(X_axis + 0.2, wamdfth['Execution_time'], 0.4, color='Red', label='AMD')\n",
        "plt.title('Execution time comparison beetwen AMD and INTEL procesors')\n",
        "plt.xticks(X_axis, X)\n",
        "plt.xlabel('Number of Threads')\n",
        "plt.ylabel('Execution time (seconds)')\n",
        "plt.show()"
      ],
      "metadata": {
        "colab": {
          "base_uri": "https://localhost:8080/",
          "height": 295
        },
        "id": "0y1YyMJrcumM",
        "outputId": "48a1f34c-c071-4d4b-88d2-76b40b8f6b8b"
      },
      "id": "0y1YyMJrcumM",
      "execution_count": 9,
      "outputs": [
        {
          "output_type": "display_data",
          "data": {
            "text/plain": [
              "<Figure size 432x288 with 1 Axes>"
            ],
            "image/png": "[encoded data removed]"
          },
          "metadata": {
            "needs_background": "light"
          }
        }
      ]
    },
    {
      "cell_type": "markdown",
      "source": [
        "### 3. Using Google Collab CPU INTEL Xeon 2.20Ghz (1 Core, 2 threads) processor with linux"
      ],
      "metadata": {
        "id": "BgLHWeQgfBPn"
      },
      "id": "BgLHWeQgfBPn"
    },
    {
      "cell_type": "code",
      "source": [
        "lgcintelfth = pd.read_csv(\"pithreaddataCOLLAB.txt\", sep=\" \", header=None, names=['Threads', 'Execution_time']) \n",
        "lgcintelfth"
      ],
      "metadata": {
        "colab": {
          "base_uri": "https://localhost:8080/",
          "height": 175
        },
        "id": "sQfxgk2lfMzU",
        "outputId": "fe2a54bc-63b4-4c10-f0e9-df34222274c2"
      },
      "id": "sQfxgk2lfMzU",
      "execution_count": 10,
      "outputs": [
        {
          "output_type": "execute_result",
          "data": {
            "text/plain": [
              "   Threads  Execution_time\n",
              "0  1Thread       11.111123\n",
              "1  2Thread       12.715859\n",
              "2  3Thread       16.078208\n",
              "3  4Thread       19.644783"
            ],
            "text/html": [
              "\n",
              "  <div id=\"df-c4916829-371a-489b-b719-c3b230c55ff2\">\n",
              "    <div class=\"colab-df-container\">\n",
              "      <div>\n",
              "<style scoped>\n",
              "    .dataframe tbody tr th:only-of-type {\n",
              "        vertical-align: middle;\n",
              "    }\n",
              "\n",
              "    .dataframe tbody tr th {\n",
              "        vertical-align: top;\n",
              "    }\n",
              "\n",
              "    .dataframe thead th {\n",
              "        text-align: right;\n",
              "    }\n",
              "</style>\n",
              "<table border=\"1\" class=\"dataframe\">\n",
              "  <thead>\n",
              "    <tr style=\"text-align: right;\">\n",
              "      <th></th>\n",
              "      <th>Threads</th>\n",
              "      <th>Execution_time</th>\n",
              "    </tr>\n",
              "  </thead>\n",
              "  <tbody>\n",
              "    <tr>\n",
              "      <th>0</th>\n",
              "      <td>1Thread</td>\n",
              "      <td>11.111123</td>\n",
              "    </tr>\n",
              "    <tr>\n",
              "      <th>1</th>\n",
              "      <td>2Thread</td>\n",
              "      <td>12.715859</td>\n",
              "    </tr>\n",
              "    <tr>\n",
              "      <th>2</th>\n",
              "      <td>3Thread</td>\n",
              "      <td>16.078208</td>\n",
              "    </tr>\n",
              "    <tr>\n",
              "      <th>3</th>\n",
              "      <td>4Thread</td>\n",
              "      <td>19.644783</td>\n",
              "    </tr>\n",
              "  </tbody>\n",
              "</table>\n",
              "</div>\n",
              "      <button class=\"colab-df-convert\" onclick=\"convertToInteractive('df-c4916829-371a-489b-b719-c3b230c55ff2')\"\n",
              "              title=\"Convert this dataframe to an interactive table.\"\n",
              "              style=\"display:none;\">\n",
              "        \n",
              "  <svg xmlns=\"http://www.w3.org/2000/svg\" height=\"24px\"viewBox=\"0 0 24 24\"\n",
              "       width=\"24px\">\n",
              "    <path d=\"M0 0h24v24H0V0z\" fill=\"none\"/>\n",
              "    <path d=\"M18.56 5.44l.94 2.06.94-2.06 2.06-.94-2.06-.94-.94-2.06-.94 2.06-2.06.94zm-11 1L8.5 8.5l.94-2.06 2.06-.94-2.06-.94L8.5 2.5l-.94 2.06-2.06.94zm10 10l.94 2.06.94-2.06 2.06-.94-2.06-.94-.94-2.06-.94 2.06-2.06.94z\"/><path d=\"M17.41 7.96l-1.37-1.37c-.4-.4-.92-.59-1.43-.59-.52 0-1.04.2-1.43.59L10.3 9.45l-7.72 7.72c-.78.78-.78 2.05 0 2.83L4 21.41c.39.39.9.59 1.41.59.51 0 1.02-.2 1.41-.59l7.78-7.78 2.81-2.81c.8-.78.8-2.07 0-2.86zM5.41 20L4 18.59l7.72-7.72 1.47 1.35L5.41 20z\"/>\n",
              "  </svg>\n",
              "      </button>\n",
              "      \n",
              "  <style>\n",
              "    .colab-df-container {\n",
              "      display:flex;\n",
              "      flex-wrap:wrap;\n",
              "      gap: 12px;\n",
              "    }\n",
              "\n",
              "    .colab-df-convert {\n",
              "      background-color: #E8F0FE;\n",
              "      border: none;\n",
              "      border-radius: 50%;\n",
              "      cursor: pointer;\n",
              "      display: none;\n",
              "      fill: #1967D2;\n",
              "      height: 32px;\n",
              "      padding: 0 0 0 0;\n",
              "      width: 32px;\n",
              "    }\n",
              "\n",
              "    .colab-df-convert:hover {\n",
              "      background-color: #E2EBFA;\n",
              "      box-shadow: 0px 1px 2px rgba(60, 64, 67, 0.3), 0px 1px 3px 1px rgba(60, 64, 67, 0.15);\n",
              "      fill: #174EA6;\n",
              "    }\n",
              "\n",
              "    [theme=dark] .colab-df-convert {\n",
              "      background-color: #3B4455;\n",
              "      fill: #D2E3FC;\n",
              "    }\n",
              "\n",
              "    [theme=dark] .colab-df-convert:hover {\n",
              "      background-color: #434B5C;\n",
              "      box-shadow: 0px 1px 3px 1px rgba(0, 0, 0, 0.15);\n",
              "      filter: drop-shadow(0px 1px 2px rgba(0, 0, 0, 0.3));\n",
              "      fill: #FFFFFF;\n",
              "    }\n",
              "  </style>\n",
              "\n",
              "      <script>\n",
              "        const buttonEl =\n",
              "          document.querySelector('#df-c4916829-371a-489b-b719-c3b230c55ff2 button.colab-df-convert');\n",
              "        buttonEl.style.display =\n",
              "          google.colab.kernel.accessAllowed ? 'block' : 'none';\n",
              "\n",
              "        async function convertToInteractive(key) {\n",
              "          const element = document.querySelector('#df-c4916829-371a-489b-b719-c3b230c55ff2');\n",
              "          const dataTable =\n",
              "            await google.colab.kernel.invokeFunction('convertToInteractive',\n",
              "                                                     [key], {});\n",
              "          if (!dataTable) return;\n",
              "\n",
              "          const docLinkHtml = 'Like what you see? Visit the ' +\n",
              "            '<a target=\"_blank\" href=https://colab.research.google.com/notebooks/data_table.ipynb>data table notebook</a>'\n",
              "            + ' to learn more about interactive tables.';\n",
              "          element.innerHTML = '';\n",
              "          dataTable['output_type'] = 'display_data';\n",
              "          await google.colab.output.renderOutput(dataTable, element);\n",
              "          const docLink = document.createElement('div');\n",
              "          docLink.innerHTML = docLinkHtml;\n",
              "          element.appendChild(docLink);\n",
              "        }\n",
              "      </script>\n",
              "    </div>\n",
              "  </div>\n",
              "  "
            ]
          },
          "metadata": {},
          "execution_count": 10
        }
      ]
    },
    {
      "cell_type": "code",
      "source": [
        "plt.bar(lgcintelfth['Threads'], lgcintelfth['Execution_time'], color='orange')\n",
        "plt.title('Execution time with many threads on G-COLLAB 1 core 2 Threads with Linux')\n",
        "plt.xlabel('Threads')\n",
        "plt.ylabel('Execution time (seconds)')\n",
        "plt.show()"
      ],
      "metadata": {
        "colab": {
          "base_uri": "https://localhost:8080/",
          "height": 295
        },
        "id": "LoQK1ll9vnU3",
        "outputId": "17f0f7da-54d6-4d51-f8b8-9283aa4af53f"
      },
      "id": "LoQK1ll9vnU3",
      "execution_count": 11,
      "outputs": [
        {
          "output_type": "display_data",
          "data": {
            "text/plain": [
              "<Figure size 432x288 with 1 Axes>"
            ],
            "image/png": "[encoded data removed]"
          },
          "metadata": {
            "needs_background": "light"
          }
        }
      ]
    },
    {
      "cell_type": "markdown",
      "source": [
        "### 4. Comparison beetwen all threads test machines"
      ],
      "metadata": {
        "id": "sO7N9Pnov_FM"
      },
      "id": "sO7N9Pnov_FM"
    },
    {
      "cell_type": "code",
      "source": [
        "X = ['Secuential','Two Threads', 'Three Threads', 'Four Threads']\n",
        "X_axis = np.arange(len(X))\n",
        "plt.bar(X_axis - 0.2, wintelfth['Execution_time'], 0.2, label='INTEL')\n",
        "plt.bar(X_axis, wamdfth['Execution_time'], 0.2, color='Red', label='AMD')\n",
        "plt.bar(X_axis + 0.2, lgcintelfth['Execution_time'], 0.2, color='orange', label='COLLAB')\n",
        "plt.title('Execution time comparison beetwen AMD, INTEL W10 and INTEL G-COLLAB processors')\n",
        "plt.xticks(X_axis, X)\n",
        "plt.xlabel('Number of Threads')\n",
        "plt.ylabel('Execution time (seconds)')\n",
        "plt.show()"
      ],
      "metadata": {
        "colab": {
          "base_uri": "https://localhost:8080/",
          "height": 295
        },
        "id": "ehn4S9hhwHij",
        "outputId": "32e0944f-38e5-42ca-ef35-45b04654d761"
      },
      "id": "ehn4S9hhwHij",
      "execution_count": 12,
      "outputs": [
        {
          "output_type": "display_data",
          "data": {
            "text/plain": [
              "<Figure size 432x288 with 1 Axes>"
            ],
            "image/png": "[encoded data removed]"
          },
          "metadata": {
            "needs_background": "light"
          }
        }
      ]
    }
  ],
  "metadata": {
    "kernelspec": {
      "display_name": "Python 3 (ipykernel)",
      "language": "python",
      "name": "python3"
    },
    "language_info": {
      "codemirror_mode": {
        "name": "ipython",
        "version": 3
      },
      "file_extension": ".py",
      "mimetype": "text/x-python",
      "name": "python",
      "nbconvert_exporter": "python",
      "pygments_lexer": "ipython3",
      "version": "3.9.7"
    },
    "colab": {
      "name": "Analisis Hilos.ipynb",
      "provenance": []
    }
  },
  "nbformat": 4,
  "nbformat_minor": 5
}